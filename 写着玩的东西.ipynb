{
 "cells": [
  {
   "cell_type": "markdown",
   "id": "07508fcf",
   "metadata": {
    "toc": true
   },
   "source": [
    "<h1>Table of Contents<span class=\"tocSkip\"></span></h1>\n",
    "<div class=\"toc\"><ul class=\"toc-item\"><li><span><a href=\"#用自制函数模拟len()\" data-toc-modified-id=\"用自制函数模拟len()-1\"><span class=\"toc-item-num\">1&nbsp;&nbsp;</span>用自制函数模拟len()</a></span></li></ul></div>"
   ]
  },
  {
   "cell_type": "markdown",
   "id": "3a6f6fa0",
   "metadata": {},
   "source": [
    "## 用自制函数模拟len()"
   ]
  },
  {
   "cell_type": "code",
   "execution_count": 4,
   "id": "5739af91",
   "metadata": {},
   "outputs": [
    {
     "name": "stdout",
     "output_type": "stream",
     "text": [
      "5\n",
      "5\n"
     ]
    }
   ],
   "source": [
    "def value_count(the_list):\n",
    "    count = 0\n",
    "    for i in the_list:\n",
    "        count += 1\n",
    "    print (count)\n",
    "l1 = [1,2,3,4,5]\n",
    "value_count(l1)\n",
    "print (len(l1))"
   ]
  },
  {
   "cell_type": "code",
   "execution_count": 8,
   "id": "dca96e3d",
   "metadata": {},
   "outputs": [
    {
     "data": {
      "image/png": "[encoded data removed]",
      "text/plain": [
       "<Figure size 432x288 with 1 Axes>"
      ]
     },
     "metadata": {
      "needs_background": "light"
     },
     "output_type": "display_data"
    }
   ],
   "source": [
    "import matplotlib.pyplot as plt\n",
    "squares = [1,4,9,16,25]\n",
    "fig,ax = plt.subplots()\n",
    "ax.plot(squares)\n",
    "\n",
    "plt.show()\n"
   ]
  },
  {
   "cell_type": "code",
   "execution_count": 9,
   "id": "077987df",
   "metadata": {},
   "outputs": [
    {
     "data": {
      "text/plain": [
       "matplotlib.axes._subplots.AxesSubplot"
      ]
     },
     "execution_count": 9,
     "metadata": {},
     "output_type": "execute_result"
    }
   ],
   "source": [
    "type(ax)\n"
   ]
  }
 ],
 "metadata": {
  "kernelspec": {
   "display_name": "Python 3",
   "language": "python",
   "name": "python3"
  },
  "language_info": {
   "codemirror_mode": {
    "name": "ipython",
    "version": 3
   },
   "file_extension": ".py",
   "mimetype": "text/x-python",
   "name": "python",
   "nbconvert_exporter": "python",
   "pygments_lexer": "ipython3",
   "version": "3.6.8"
  },
  "toc": {
   "base_numbering": 1,
   "nav_menu": {},
   "number_sections": true,
   "sideBar": true,
   "skip_h1_title": true,
   "title_cell": "Table of Contents",
   "title_sidebar": "Contents",
   "toc_cell": true,
   "toc_position": {},
   "toc_section_display": true,
   "toc_window_display": false
  }
 },
 "nbformat": 4,
 "nbformat_minor": 5
}
