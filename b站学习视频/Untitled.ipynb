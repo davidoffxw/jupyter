{
 "cells": [
  {
   "cell_type": "code",
   "execution_count": null,
   "id": "1d775b26",
   "metadata": {},
   "outputs": [],
   "source": [
    "import os\n",
    "import openpyxl\n",
    "\n",
    "BASE_DIR = os.path.abspath('.')\n",
    "\n",
    "file_path = os.path.join(BASE_DIR,\"files\",\"雇主责任险名单202211.xlsx\")\n",
    "\n",
    "print (file_path)\n",
    "\n"
   ]
  },
  {
   "cell_type": "code",
   "execution_count": null,
   "id": "500d14ac",
   "metadata": {},
   "outputs": [],
   "source": [
    "!pip install openpyxl"
   ]
  },
  {
   "cell_type": "code",
   "execution_count": null,
   "id": "c9677e09",
   "metadata": {},
   "outputs": [],
   "source": [
    "import xlrd\n",
    "xlrd.open_workbook(file_path)"
   ]
  },
  {
   "cell_type": "code",
   "execution_count": null,
   "id": "cbbe43b4",
   "metadata": {},
   "outputs": [],
   "source": [
    "xlrd.open_workbook(file_path)"
   ]
  }
 ],
 "metadata": {
  "kernelspec": {
   "display_name": "Python 3",
   "language": "python",
   "name": "python3"
  },
  "language_info": {
   "codemirror_mode": {
    "name": "ipython",
    "version": 3
   },
   "file_extension": ".py",
   "mimetype": "text/x-python",
   "name": "python",
   "nbconvert_exporter": "python",
   "pygments_lexer": "ipython3",
   "version": "3.6.8"
  },
  "toc": {
   "base_numbering": 1,
   "nav_menu": {},
   "number_sections": true,
   "sideBar": true,
   "skip_h1_title": false,
   "title_cell": "Table of Contents",
   "title_sidebar": "Contents",
   "toc_cell": false,
   "toc_position": {},
   "toc_section_display": true,
   "toc_window_display": false
  }
 },
 "nbformat": 4,
 "nbformat_minor": 5
}
