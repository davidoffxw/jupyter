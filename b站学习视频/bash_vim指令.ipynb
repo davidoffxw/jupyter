{
 "cells": [
  {
   "cell_type": "markdown",
   "id": "ca03196f",
   "metadata": {
    "toc": true
   },
   "source": [
    "<h1>Table of Contents<span class=\"tocSkip\"></span></h1>\n",
    "<div class=\"toc\"><ul class=\"toc-item\"><li><span><a href=\"#常用bash命令：\" data-toc-modified-id=\"常用bash命令：-1\"><span class=\"toc-item-num\">1&nbsp;&nbsp;</span>常用bash命令：</a></span></li></ul></div>"
   ]
  },
  {
   "cell_type": "markdown",
   "id": "514d4033",
   "metadata": {},
   "source": [
    "# bash学习笔记\n",
    "bash 是linux中的一个命令行模式\n",
    "$开头\n",
    "\n",
    "## 常用bash命令：\n",
    "ls "
   ]
  },
  {
   "cell_type": "markdown",
   "id": "78aecf53",
   "metadata": {},
   "source": [
    "# vim基本操作\n",
    ":wq 写入并退出 #q=quit w=write\n",
    "\n",
    ":q! 退出不保存\n",
    "\n",
    "h j k l = 左 下 上 右\n",
    "\n",
    "i 插入模式 insert ； 插入最前面 I\n",
    "\n",
    "a 插入模式，在光标后面插入 a=append ；插入最后面 A\n",
    "\n",
    "o 新增一行 open a new line; 大写O 在前面新增一行\n",
    "\n",
    ":set nu 增加行号显示； 5k 向上5行；5j 向下5行 \n",
    "\n",
    "yy 复制一行，y=yank；\n",
    "p 粘贴 p=paste\n",
    "\n",
    "dd 删除当前行；d=delete\n",
    "\n",
    ". 英文句号 重复上一次的动作\n",
    "\n",
    "u 撤销 u=undo\n",
    "\n",
    "dw 删除当前词 delete word；cw change word\n",
    "\n",
    "w 移动光标到单词后；b 上个单词后 b=before\n",
    "\n",
    "/ 查收 n=next查找下一个；b=before查找上一个 \n",
    "\n",
    "students（1,2,3,4,5,6) 快速删除 （）里的内容  ci(   = change in () 括号里面的都改掉\n",
    "\n",
    "ctrl+v visual block 视觉模式，选词；shift+v visual line 视觉模式，选行\n",
    "\n",
    "b = back；f = forward 向后/向前 配合Ctrl 翻页"
   ]
  },
  {
   "cell_type": "code",
   "execution_count": null,
   "id": "a22bb401",
   "metadata": {},
   "outputs": [],
   "source": [
    "\n"
   ]
  }
 ],
 "metadata": {
  "kernelspec": {
   "display_name": "Python 3",
   "language": "python",
   "name": "python3"
  },
  "language_info": {
   "codemirror_mode": {
    "name": "ipython",
    "version": 3
   },
   "file_extension": ".py",
   "mimetype": "text/x-python",
   "name": "python",
   "nbconvert_exporter": "python",
   "pygments_lexer": "ipython3",
   "version": "3.6.8"
  },
  "toc": {
   "base_numbering": 1,
   "nav_menu": {},
   "number_sections": true,
   "sideBar": true,
   "skip_h1_title": true,
   "title_cell": "Table of Contents",
   "title_sidebar": "Contents",
   "toc_cell": true,
   "toc_position": {},
   "toc_section_display": true,
   "toc_window_display": false
  }
 },
 "nbformat": 4,
 "nbformat_minor": 5
}
