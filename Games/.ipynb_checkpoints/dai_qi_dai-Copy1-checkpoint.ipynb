{
 "cells": [
  {
   "cell_type": "markdown",
   "id": "4abd85b6",
   "metadata": {
    "toc": true
   },
   "source": [
    "<h1>Table of Contents<span class=\"tocSkip\"></span></h1>\n",
    "<div class=\"toc\"><ul class=\"toc-item\"></ul></div>"
   ]
  },
  {
   "cell_type": "markdown",
   "id": "16e1ee5f",
   "metadata": {},
   "source": [
    "# dai qi dai\n",
    "点击cell-run all运行此游戏"
   ]
  },
  {
   "cell_type": "code",
   "execution_count": 4,
   "id": "209d313b",
   "metadata": {},
   "outputs": [
    {
     "name": "stdout",
     "output_type": "stream",
     "text": [
      "输入你想玩几次3\n",
      "\n",
      "1.石头✊ 2.剪刀✂️ 3.布👋\n",
      "你准备出啥？用数字输入： \n",
      "1\n",
      "加油！加油！输入的就很对\n",
      "让我想想，我出个啥...\n",
      "倒数1秒\n",
      "你出的是：石头✊   电脑出的是：剪刀✂️\n",
      "\n",
      "你赢了\n",
      "\n",
      "1.石头✊ 2.剪刀✂️ 3.布👋\n",
      "你准备出啥？用数字输入： \n",
      "2\n",
      "加油！加油！输入的就很对\n",
      "让我想想，我出个啥...\n",
      "倒数1秒\n",
      "你出的是：剪刀✂️   电脑出的是：布👋\n",
      "\n",
      "你赢了\n",
      "\n",
      "1.石头✊ 2.剪刀✂️ 3.布👋\n",
      "你准备出啥？用数字输入： \n",
      "2\n",
      "加油！加油！输入的就很对\n",
      "让我想想，我出个啥...\n",
      "倒数1秒\n",
      "你出的是：剪刀✂️   电脑出的是：剪刀✂️\n",
      "\n",
      "平局\n"
     ]
    }
   ],
   "source": [
    "import random\n",
    "import time as t\n",
    "\n",
    "def youwin():\n",
    "    print ('\\n你赢了')\n",
    "def youlost():\n",
    "    print ('\\n 哈哈，你输了，再来一局吧')\n",
    "def pingju():\n",
    "    print ('\\n平局')\n",
    "def echo():\n",
    "    print ('你出的是'+your_choice)\n",
    "\n",
    "time = int(input (\"输入你想玩几次\"))\n",
    "\n",
    "ruler = {1:\"石头✊\",2:\"剪刀✂️\",3:\"布👋\"}\n",
    "\n",
    "for i in range(time):\n",
    "    print ('\\n1.石头✊ 2.剪刀✂️ 3.布👋')\n",
    "    your_choice = int(input ('你准备出啥？用数字输入： \\n'))\n",
    "\n",
    "    if your_choice in [1,2,3]:\n",
    "        print (\"加油！加油！输入的就很对\")\n",
    "        print(\"让我想想，我出个啥...\")\n",
    "        for j in range(1):\n",
    "            print (f'倒数{1-j}秒')\n",
    "            t.sleep(1)\n",
    "    else:\n",
    "        print(\"别乱来，重新输入1/2/3\")\n",
    "\n",
    "    computer_choice = random.randint (1,3)    \n",
    "\n",
    "    print (f'你出的是：{ruler.get(your_choice,\"error for input\")}   电脑出的是：{ruler.get(computer_choice)}')\n",
    "\n",
    "    if your_choice == computer_choice:\n",
    "        pingju()\n",
    "    elif your_choice ==1 and computer_choice==2:\n",
    "        youwin()\n",
    "    elif your_choice ==1 and computer_choice ==3:\n",
    "        youlost()\n",
    "    elif your_choice==2 and computer_choice ==1:\n",
    "        youlost()\n",
    "    elif your_choice ==2 and computer_choice ==3:\n",
    "        youwin()\n",
    "    elif your_choice ==3 and computer_choice ==1:\n",
    "        youwin()\n",
    "    elif your_choice ==3 and computer_choice ==2:\n",
    "        youlost()\n",
    "\n",
    "\n"
   ]
  },
  {
   "cell_type": "code",
   "execution_count": 2,
   "id": "520664a7",
   "metadata": {},
   "outputs": [
    {
     "ename": "NameError",
     "evalue": "name 'time' is not defined",
     "output_type": "error",
     "traceback": [
      "\u001b[0;31m---------------------------------------------------------------------------\u001b[0m",
      "\u001b[0;31mNameError\u001b[0m                                 Traceback (most recent call last)",
      "\u001b[0;32m<ipython-input-2-68fa00432597>\u001b[0m in \u001b[0;36m<module>\u001b[0;34m\u001b[0m\n\u001b[0;32m----> 1\u001b[0;31m \u001b[0mtype\u001b[0m\u001b[0;34m(\u001b[0m\u001b[0mtime\u001b[0m\u001b[0;34m)\u001b[0m \u001b[0;34m==\u001b[0m \u001b[0mstr\u001b[0m\u001b[0;34m\u001b[0m\u001b[0;34m\u001b[0m\u001b[0m\n\u001b[0m",
      "\u001b[0;31mNameError\u001b[0m: name 'time' is not defined"
     ]
    }
   ],
   "source": [
    "type(time) == str"
   ]
  },
  {
   "cell_type": "code",
   "execution_count": null,
   "id": "854eef58",
   "metadata": {},
   "outputs": [],
   "source": []
  }
 ],
 "metadata": {
  "kernelspec": {
   "display_name": "Python 3",
   "language": "python",
   "name": "python3"
  },
  "language_info": {
   "codemirror_mode": {
    "name": "ipython",
    "version": 3
   },
   "file_extension": ".py",
   "mimetype": "text/x-python",
   "name": "python",
   "nbconvert_exporter": "python",
   "pygments_lexer": "ipython3",
   "version": "3.6.8"
  },
  "toc": {
   "base_numbering": 1,
   "nav_menu": {},
   "number_sections": true,
   "sideBar": true,
   "skip_h1_title": true,
   "title_cell": "Table of Contents",
   "title_sidebar": "Contents",
   "toc_cell": true,
   "toc_position": {},
   "toc_section_display": true,
   "toc_window_display": false
  }
 },
 "nbformat": 4,
 "nbformat_minor": 5
}
