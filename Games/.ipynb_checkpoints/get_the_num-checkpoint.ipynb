{
 "cells": [
  {
   "cell_type": "markdown",
   "id": "aeb894b5",
   "metadata": {
    "toc": true
   },
   "source": [
    "<h1>Table of Contents<span class=\"tocSkip\"></span></h1>\n",
    "<div class=\"toc\"><ul class=\"toc-item\"></ul></div>"
   ]
  },
  {
   "cell_type": "markdown",
   "id": "f236b82c",
   "metadata": {},
   "source": [
    "# 疯狂猜数字\n",
    "可选难度：\n",
    "1、10以内\n",
    "2、50以内\n",
    "3、100以内\n",
    "\n",
    "游戏基本规则：\n",
    "系统按照所选难度，给定一个数字\n",
    "玩家输入猜数，系统反馈\"太大了\"，\"太小了\"，玩家根据提示重新输入\n",
    "最终显示猜中数字及猜了多少次"
   ]
  },
  {
   "cell_type": "code",
   "execution_count": 36,
   "id": "8c2d550a",
   "metadata": {},
   "outputs": [
    {
     "name": "stdout",
     "output_type": "stream",
     "text": [
      "请输了你想挑战的难度：1.10以内；2.50以内；3.100以内(请量力而选)1\n",
      "数字已经选定啦！开始猜吧！\n",
      " 偷偷告诉你：（输入0，退出游戏）\n",
      "你猜这个数字是多少呢？2\n",
      "你猜的太小了\n",
      "你猜这个数字是多少呢？4\n",
      "厉害啊！你猜中了！！！就是4啊！！你一共猜了2次\n"
     ]
    }
   ],
   "source": [
    "import random\n",
    "\n",
    "level = int(input (\"请输了你想挑战的难度：1.10以内；2.50以内；3.100以内(请量力而选)\"))\n",
    "level_dict ={1:10,2:50,3:100}\n",
    "the_no = random.randint (1,level_dict[level])\n",
    "# print (the_no) ## 系统随机数\n",
    "print ('数字已经选定啦！开始猜吧！\\n 偷偷告诉你：（输入0，退出游戏）')\n",
    "count =0\n",
    "while True:\n",
    "    guess_no = int (input(\"你猜这个数字是多少呢？\"))\n",
    "    if guess_no == 0:\n",
    "        break\n",
    "    count +=1\n",
    "    if guess_no == the_no:\n",
    "        break\n",
    "    elif guess_no > the_no:\n",
    "        print ('你猜的太大了')\n",
    "    elif guess_no < the_no:\n",
    "        print ('你猜的太小了')\n",
    "if guess_no != 0:\n",
    "    print (f'厉害啊！你猜中了！！！就是{guess_no}啊！！你一共猜了{count}次')\n",
    "else:\n",
    "    print (f'没关系，没猜中也没关系，数字是{the_no}')\n",
    "    "
   ]
  },
  {
   "cell_type": "code",
   "execution_count": null,
   "id": "8a7139d5",
   "metadata": {},
   "outputs": [],
   "source": []
  },
  {
   "cell_type": "code",
   "execution_count": null,
   "id": "3095bd67",
   "metadata": {},
   "outputs": [],
   "source": []
  }
 ],
 "metadata": {
  "kernelspec": {
   "display_name": "Python 3",
   "language": "python",
   "name": "python3"
  },
  "language_info": {
   "codemirror_mode": {
    "name": "ipython",
    "version": 3
   },
   "file_extension": ".py",
   "mimetype": "text/x-python",
   "name": "python",
   "nbconvert_exporter": "python",
   "pygments_lexer": "ipython3",
   "version": "3.6.8"
  },
  "toc": {
   "base_numbering": 1,
   "nav_menu": {},
   "number_sections": true,
   "sideBar": true,
   "skip_h1_title": true,
   "title_cell": "Table of Contents",
   "title_sidebar": "Contents",
   "toc_cell": true,
   "toc_position": {},
   "toc_section_display": true,
   "toc_window_display": false
  }
 },
 "nbformat": 4,
 "nbformat_minor": 5
}
