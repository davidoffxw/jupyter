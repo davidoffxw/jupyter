{
 "cells": [
  {
   "cell_type": "markdown",
   "id": "8a926f17",
   "metadata": {
    "toc": true
   },
   "source": [
    "<h1>Table of Contents<span class=\"tocSkip\"></span></h1>\n",
    "<div class=\"toc\"><ul class=\"toc-item\"></ul></div>"
   ]
  },
  {
   "cell_type": "markdown",
   "id": "c490ffda",
   "metadata": {},
   "source": [
    "# 函数的基础知识 def xxx():"
   ]
  },
  {
   "cell_type": "code",
   "execution_count": null,
   "id": "f19b666e",
   "metadata": {},
   "outputs": [],
   "source": [
    "# 定义函数\n",
    "def greet_user ():\n",
    "    print ('hello world')\n",
    "\n",
    "greet_user()"
   ]
  },
  {
   "cell_type": "code",
   "execution_count": null,
   "id": "8c5762ec",
   "metadata": {},
   "outputs": [],
   "source": [
    "# 定义传入实参的函数\n",
    "def greet_user(user_name): #此处为形参\n",
    "    print (f'hello {user_name.title()}')\n",
    "greet_user('xu wei') #此处为调用参数时的实参\n"
   ]
  },
  {
   "cell_type": "code",
   "execution_count": null,
   "id": "5430a998",
   "metadata": {},
   "outputs": [],
   "source": [
    "# 定义传入多个实参的函数\n",
    "def get_formatted_name(first_name,last_name,mid_name=None):\n",
    "    if mid_name != None:\n",
    "        full_name=(f'{first_name.title()} {mid_name.title()} {last_name.title()}')\n",
    "    else:\n",
    "        full_name=(f'{first_name.title()} {last_name.title()}')\n",
    "    return full_name\n",
    "first= input ('your first?')\n",
    "mid= input('your mid?')\n",
    "last=input('your last?')\n",
    "user = get_formatted_name(first,mid,last)\n",
    "print (user)"
   ]
  },
  {
   "cell_type": "code",
   "execution_count": null,
   "id": "c0e67169",
   "metadata": {},
   "outputs": [],
   "source": [
    "# 形参为列表的情况\n",
    "def greet_users(users):\n",
    "    for user in users:\n",
    "        print (f'hi {user}')\n",
    "users = (['Zhang3','Li4',\"Wang5\"])\n",
    "greet_users(users)"
   ]
  },
  {
   "cell_type": "code",
   "execution_count": null,
   "id": "5c751fca",
   "metadata": {},
   "outputs": [],
   "source": [
    "# 使用函数操作列表 pop() append()\n",
    "\n",
    "def print_models(unprint_designs,completed_designs):\n",
    "    '''此处如果用for in 可以实现功能，但是无法正常表示 unprint的pop过程'''\n",
    "    for unprint_design in unprint_designs:\n",
    "        print (f'now {unprint_design} is printting!')\n",
    "        # unprint_designs.pop()\n",
    "        completed_designs.append(unprint_design)\n",
    "\n",
    "def show_completed_designs(completed_designs):\n",
    "    for completed_design in completed_designs:\n",
    "        print (completed_design)\n",
    "unprint_designs = ['iPhone','Macbook','XiaoMi','Airpods']\n",
    "completed_designs=[]\n",
    "\n",
    "print_models(unprint_designs,completed_designs)\n",
    "show_completed_designs(completed_designs)"
   ]
  },
  {
   "cell_type": "code",
   "execution_count": null,
   "id": "92cff2a4",
   "metadata": {},
   "outputs": [],
   "source": [
    "def print_models(unprint_designs,completed_designs):\n",
    "    while unprint_designs:\n",
    "        unprint_design = unprint_designs.pop(0) # pop(0) 从列表的第一个元素开始打印。\n",
    "        print (f'now {unprint_design} is printting!')\n",
    "        completed_designs.append(unprint_design)\n",
    "\n",
    "def show_completed_designs(completed_designs):\n",
    "    for completed_design in completed_designs:\n",
    "        print (completed_design)\n",
    "unprint_designs = ['iPhone','Macbook','XiaoMi','Airpods']\n",
    "completed_designs=[]\n",
    "\n",
    "print_models(unprint_designs,completed_designs)\n",
    "show_completed_designs(completed_designs)\n",
    "\n",
    "print (f'原先的unprint_models是： {unprint_designs}') #此处发现原先的列表已经pop（）为空。通过define对列表进行了操作"
   ]
  },
  {
   "cell_type": "code",
   "execution_count": null,
   "id": "e4db5b93",
   "metadata": {},
   "outputs": [],
   "source": [
    "# 禁止函数修改列表示例 使用列表的副本 [:] 进行操作\n",
    "def print_models(unprint_designs,completed_designs):\n",
    "    while unprint_designs:\n",
    "        unprint_design = unprint_designs.pop(0) # pop(0) 从列表的第一个元素开始打印。\n",
    "        print (f'now {unprint_design} is printting!')\n",
    "        completed_designs.append(unprint_design)\n",
    "\n",
    "def show_completed_designs(completed_designs):\n",
    "    for completed_design in completed_designs:\n",
    "        print (completed_design)\n",
    "unprint_designs = ['iPhone','Macbook','XiaoMi','Airpods']\n",
    "completed_designs=[]\n",
    "\n",
    "print_models(unprint_designs[:],completed_designs) # 注意‼️此处往形参传递的是列表的副本！！[:]\n",
    "show_completed_designs(completed_designs)\n",
    "\n",
    "print (f'原先的unprint_models是： {unprint_designs}')"
   ]
  },
  {
   "cell_type": "code",
   "execution_count": 9,
   "id": "8810a2ca",
   "metadata": {},
   "outputs": [
    {
     "name": "stdout",
     "output_type": "stream",
     "text": [
      "准备加入披萨的原料有：pepperoni2\n",
      "准备加入披萨的原料有：green peppers\n",
      "准备加入披萨的原料有：extra cheese\n",
      "我把 ('pepperoni2', 'green peppers', 'extra cheese')吃了\n"
     ]
    }
   ],
   "source": [
    "# 形参为多个元素的列表 不确定有多少个元素时 难怪在def里引用时，需要跟（）里的变量名一致\n",
    "def make_pizza (*toppings): #‼️注意‼️此处 *toppings创建了一个空的元组！！\n",
    "    for topping in toppings:\n",
    "        print (f'准备加入披萨的原料有：{topping}')\n",
    "    return(toppings)\n",
    "\n",
    "def eat_pizza(pizza):\n",
    "    print(f'我把 {pizza}吃了')\n",
    "\n",
    "pizza=make_pizza('pepperoni2','green peppers','extra cheese')\n",
    "eat_pizza (pizza)"
   ]
  },
  {
   "cell_type": "markdown",
   "id": "575982e7",
   "metadata": {},
   "source": [
    "**形参为字典。`\\**user_info` 会建立一个空的字典！！**"
   ]
  },
  {
   "cell_type": "code",
   "execution_count": null,
   "id": "fb443b89",
   "metadata": {},
   "outputs": [],
   "source": [
    "# 形参为字典。 **user_info 会建立一个空的字典！！\n",
    "def format_user(first,**user_info):\n",
    "    user_info['first']=first\n",
    "    print (user_info)\n",
    "    return user_info\n",
    "a = format_user(ll='ll',first='xu',location='q.') #传入的实参需要为key:value键值对\n",
    "print (a)"
   ]
  },
  {
   "cell_type": "markdown",
   "id": "1801978f",
   "metadata": {},
   "source": [
    "## 关于调用 pizza.py 模块\n",
    "import pizza \n",
    "pizza.make_pizza()\n",
    "\n",
    "import pizza as p #给模块as别名p\n",
    "p.pizza.make_pizza()\n",
    "\n",
    "from pizza import * #导入所有模块的所有函数\n",
    "make_pizza()\n",
    "\n",
    "from pizza import make_pizza as mp #导入单个函数make_pizza，并设置为别名mp\n",
    "mp()"
   ]
  },
  {
   "cell_type": "markdown",
   "id": "c2dd1e19",
   "metadata": {},
   "source": [
    "# 函数编写指南中说：\n",
    "**函数名=描述性名称**\n",
    "**函数名=小写！**\n",
    "def xxx():\n",
    "    ''' 注释 ''' #注意是单引号'\n",
    "\n",
    "指定形参默认值的时候，=左右不要有空格\n",
    "def format_user_name (first,last,mid='大师'):"
   ]
  }
 ],
 "metadata": {
  "kernelspec": {
   "display_name": "Python 3",
   "language": "python",
   "name": "python3"
  },
  "language_info": {
   "codemirror_mode": {
    "name": "ipython",
    "version": 3
   },
   "file_extension": ".py",
   "mimetype": "text/x-python",
   "name": "python",
   "nbconvert_exporter": "python",
   "pygments_lexer": "ipython3",
   "version": "3.6.8"
  },
  "toc": {
   "base_numbering": 1,
   "nav_menu": {},
   "number_sections": true,
   "sideBar": true,
   "skip_h1_title": true,
   "title_cell": "Table of Contents",
   "title_sidebar": "Contents",
   "toc_cell": true,
   "toc_position": {},
   "toc_section_display": true,
   "toc_window_display": false
  }
 },
 "nbformat": 4,
 "nbformat_minor": 5
}
