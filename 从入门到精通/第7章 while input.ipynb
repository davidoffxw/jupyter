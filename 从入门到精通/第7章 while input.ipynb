{
 "cells": [
  {
   "cell_type": "markdown",
   "id": "356db56b",
   "metadata": {
    "toc": true
   },
   "source": [
    "<h1>Table of Contents<span class=\"tocSkip\"></span></h1>\n",
    "<div class=\"toc\"><ul class=\"toc-item\"><li><span><a href=\"#while的基础用法\" data-toc-modified-id=\"while的基础用法-1\"><span class=\"toc-item-num\">1&nbsp;&nbsp;</span>while的基础用法</a></span></li><li><span><a href=\"#使用标志-break-continue\" data-toc-modified-id=\"使用标志-break-continue-2\"><span class=\"toc-item-num\">2&nbsp;&nbsp;</span>使用标志 break continue</a></span></li><li><span><a href=\"#求模运算符-%\" data-toc-modified-id=\"求模运算符-%-3\"><span class=\"toc-item-num\">3&nbsp;&nbsp;</span>求模运算符 %</a></span></li></ul></div>"
   ]
  },
  {
   "cell_type": "markdown",
   "id": "ae29dfc1",
   "metadata": {},
   "source": [
    "## while的基础用法\n",
    "```\n",
    "while True:\n",
    "        xxx #while后面的条件为True则一直运行\n",
    "```   "
   ]
  },
  {
   "cell_type": "markdown",
   "id": "8dda61b3",
   "metadata": {},
   "source": [
    "## 使用标志 break continue\n",
    "```python\n",
    "active = True\n",
    "while active:  #!!注意，跟if一样，要有冒号\n",
    "    message = input ('输入quit即退出')\n",
    "    if message == 'quit':\n",
    "        break\n",
    "```\n",
    "break 结束整个while\n",
    "continue 不再执行continue后面的语句，直接跳转回while开头继续执行\n",
    "```python\n",
    "current_number = 0\n",
    "while current_number <= 10:\n",
    "    current_number += 1 #变量累加1\n",
    "    if current_number % 2 == 0: #变量是否为偶数\n",
    "        continue\n",
    "    print (current_number)\n",
    "\n",
    "\n"
   ]
  },
  {
   "cell_type": "code",
   "execution_count": 5,
   "id": "12b95d8e",
   "metadata": {},
   "outputs": [
    {
     "name": "stdout",
     "output_type": "stream",
     "text": [
      "输入quit即退出  3\n",
      "输入quit即退出  3\n",
      "输入quit即退出  3\n",
      "输入quit即退出  quit\n"
     ]
    }
   ],
   "source": [
    "active = True\n",
    "while active:  #!!注意，跟if一样，要有冒号\n",
    "    message = input ('输入quit即退出  ')\n",
    "    if message == 'quit':\n",
    "        active = False"
   ]
  },
  {
   "cell_type": "markdown",
   "id": "9da82985",
   "metadata": {},
   "source": [
    "## 求模运算符 %\n",
    "4%3 = 1 #求余数"
   ]
  },
  {
   "cell_type": "code",
   "execution_count": 7,
   "id": "e4159512",
   "metadata": {},
   "outputs": [
    {
     "name": "stdout",
     "output_type": "stream",
     "text": [
      "1\n",
      "3\n",
      "5\n",
      "7\n",
      "9\n"
     ]
    }
   ],
   "source": [
    "current_number = 0\n",
    "while current_number < 10:\n",
    "    current_number += 1 #变量累加1\n",
    "    if current_number % 2 == 0: #变量是否为偶数\n",
    "        continue #如果是偶数，直接跳转回while开头重新运行\n",
    "    print (current_number)"
   ]
  }
 ],
 "metadata": {
  "kernelspec": {
   "display_name": "Python 3",
   "language": "python",
   "name": "python3"
  },
  "language_info": {
   "codemirror_mode": {
    "name": "ipython",
    "version": 3
   },
   "file_extension": ".py",
   "mimetype": "text/x-python",
   "name": "python",
   "nbconvert_exporter": "python",
   "pygments_lexer": "ipython3",
   "version": "3.6.8"
  },
  "toc": {
   "base_numbering": 1,
   "nav_menu": {},
   "number_sections": true,
   "sideBar": true,
   "skip_h1_title": true,
   "title_cell": "Table of Contents",
   "title_sidebar": "Contents",
   "toc_cell": true,
   "toc_position": {},
   "toc_section_display": true,
   "toc_window_display": false
  }
 },
 "nbformat": 4,
 "nbformat_minor": 5
}
