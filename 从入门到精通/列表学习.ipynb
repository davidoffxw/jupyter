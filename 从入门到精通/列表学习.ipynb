{
 "cells": [
  {
   "cell_type": "markdown",
   "id": "7251993f",
   "metadata": {},
   "source": [
    "列表的学习\n",
    "\n",
    "python编程：从入门到精通（第二版） ibooks\n",
    "```（这个位置的内容不会被显示）\n",
    "list = [] #可以包含任意属性数据\n",
    "##关于列表，删除del某个元素\n",
    "\n",
    "bicycles = ['moto1','moto2','moto3']\n",
    "print (bicycles)\n",
    "del bicycles[0] ##好特殊的用法！！！记录一下\n",
    "print(bicycles)\n",
    "```"
   ]
  },
  {
   "cell_type": "code",
   "execution_count": 1,
   "id": "6af8f65c",
   "metadata": {},
   "outputs": [
    {
     "name": "stdout",
     "output_type": "stream",
     "text": [
      "['moto1', 'moto2', 'moto3']\n",
      "['moto2', 'moto3']\n"
     ]
    }
   ],
   "source": [
    "#关于列表，删除del某个元素\n",
    "\n",
    "bicycles = ['moto1','moto2','moto3']\n",
    "print (bicycles)\n",
    "del bicycles[0] ##好特殊的用法！！！记录一下\n",
    "print(bicycles)"
   ]
  },
  {
   "cell_type": "code",
   "execution_count": 2,
   "id": "95895d4f",
   "metadata": {},
   "outputs": [
    {
     "name": "stdout",
     "output_type": "stream",
     "text": [
      "['moto1', 'moto2', 'moto3']\n",
      "被pop()出的是moto3\n",
      "被pop(1)的是moto2\n"
     ]
    }
   ],
   "source": [
    "## pop 弹出一个元素，元素不再在列表中 pop，但这个元素可以再后面继续用\n",
    "\n",
    "bicycles = ['moto1','moto2','moto3']\n",
    "print (bicycles)\n",
    "\n",
    "poped_bicycles= bicycles.pop()\n",
    "\n",
    "# print (bicycles)\n",
    "print (f'被pop()出的是{poped_bicycles}')\n",
    "\n",
    "print(f'被pop(1)的是{bicycles.pop(1)}')"
   ]
  },
  {
   "cell_type": "code",
   "execution_count": 3,
   "id": "0ed79f35",
   "metadata": {},
   "outputs": [],
   "source": [
    "##追加append()到列表\n",
    "\n",
    "# bicycles = []\n",
    "# bicycles.append('moto1')\n",
    "# print (bicycles)\n",
    "# bicycles.append('moto2')\n",
    "# bicycles"
   ]
  },
  {
   "cell_type": "code",
   "execution_count": 4,
   "id": "16421d93",
   "metadata": {},
   "outputs": [
    {
     "name": "stdout",
     "output_type": "stream",
     "text": [
      "['moto1', 'motoX']\n"
     ]
    }
   ],
   "source": [
    "## insert 到列表中一个值  \n",
    "bicycles.insert(1,\"motoX\") \n",
    "print (bicycles)"
   ]
  },
  {
   "cell_type": "code",
   "execution_count": 5,
   "id": "31b7d439",
   "metadata": {},
   "outputs": [
    {
     "name": "stdout",
     "output_type": "stream",
     "text": [
      "bicycles最初状态：['moto1', 'moto2', 'moto3']\n",
      "'bicycles.remove('moto1')\n",
      "bicycles remove之后：['moto2', 'moto3']\n"
     ]
    }
   ],
   "source": [
    "\n",
    "## 根据值删除元素，但是被删除的值不再可用。 \n",
    "## 如果被删除的值未存在于列表中， 则报错\n",
    "## \n",
    "\n",
    "bicycles = ['moto1','moto2','moto3']\n",
    "print (f'bicycles最初状态：{bicycles}')\n",
    "\n",
    "m='moto1'\n",
    "bicycles.remove('moto1')\n",
    "print (\"'bicycles.remove('moto1')\")\n",
    "\n",
    "print(f'bicycles remove之后：{bicycles}')\n",
    "\n",
    "\n",
    "\n"
   ]
  },
  {
   "cell_type": "code",
   "execution_count": 6,
   "id": "7f044bd2",
   "metadata": {},
   "outputs": [
    {
     "name": "stdout",
     "output_type": "stream",
     "text": [
      "[1, 2, 3, 4]\n",
      "\n",
      " [1, 2, 'x', 3, 4] \n",
      " 2\n"
     ]
    }
   ],
   "source": [
    "l= list([1,2,3,4])\n",
    "print(l)\n",
    "l.insert(2,'x')\n",
    "print ('\\n',l,'\\n',l[1])"
   ]
  },
  {
   "cell_type": "code",
   "execution_count": null,
   "id": "c9f8c814",
   "metadata": {},
   "outputs": [],
   "source": []
  }
 ],
 "metadata": {
  "kernelspec": {
   "display_name": "Python 3",
   "language": "python",
   "name": "python3"
  },
  "language_info": {
   "codemirror_mode": {
    "name": "ipython",
    "version": 3
   },
   "file_extension": ".py",
   "mimetype": "text/x-python",
   "name": "python",
   "nbconvert_exporter": "python",
   "pygments_lexer": "ipython3",
   "version": "3.6.8"
  },
  "toc": {
   "base_numbering": 1,
   "nav_menu": {},
   "number_sections": true,
   "sideBar": true,
   "skip_h1_title": false,
   "title_cell": "Table of Contents",
   "title_sidebar": "Contents",
   "toc_cell": false,
   "toc_position": {},
   "toc_section_display": true,
   "toc_window_display": true
  }
 },
 "nbformat": 4,
 "nbformat_minor": 5
}
