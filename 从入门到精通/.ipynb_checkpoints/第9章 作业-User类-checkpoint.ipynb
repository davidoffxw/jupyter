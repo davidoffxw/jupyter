{
 "cells": [
  {
   "cell_type": "markdown",
   "id": "c4b0b4aa",
   "metadata": {
    "toc": true
   },
   "source": [
    "<h1>Table of Contents<span class=\"tocSkip\"></span></h1>\n",
    "<div class=\"toc\"><ul class=\"toc-item\"></ul></div>"
   ]
  },
  {
   "cell_type": "code",
   "execution_count": 9,
   "id": "b5612ba9",
   "metadata": {},
   "outputs": [
    {
     "name": "stdout",
     "output_type": "stream",
     "text": [
      "the users first name is Xu\n",
      "\n",
      "the users last name is Wei\n",
      "\n",
      "hallo Xu Wei\n"
     ]
    }
   ],
   "source": [
    "class User:\n",
    "    def __init__(self,first_name,last_name):\n",
    "        self.first_name = first_name\n",
    "        self.last_name = last_name\n",
    "        self.formatted_user_name=f'{first_name.title()} {last_name.title()}'\n",
    "    \n",
    "    def describe_user(self):\n",
    "        print (f'the users first name is {self.first_name.title()}\\n')\n",
    "        print (f'the users last name is {self.last_name.title()}\\n')\n",
    "               \n",
    "    def greet_user(self):\n",
    "        print (f'hallo {self.formatted_user_name}'}\n",
    "\n",
    "user = User('xu','wei')\n",
    "user.describe_user()\n",
    "user.greet_user()"
   ]
  },
  {
   "cell_type": "code",
   "execution_count": 15,
   "id": "34f8b42e",
   "metadata": {},
   "outputs": [
    {
     "name": "stdout",
     "output_type": "stream",
     "text": [
      "hallo Xiao %Xdelu\n",
      "the users first name is Xiao\n",
      "\n",
      "the users last name is %Xdelu\n",
      "\n",
      "这是为了调用子类的名字Xiao %Xdelu\n"
     ]
    }
   ],
   "source": [
    "class UserSon(User):\n",
    "    def __init__(self,first,last):\n",
    "        super().__init__(first,last)\n",
    "    \n",
    "    def greet_userson(self):\n",
    "        print ('这是为了调用子类的名字'+self.formatted_user_name)\n",
    "        \n",
    "userson=UserSon('Xiao',\"%xdelu\")\n",
    "userson.greet_user()\n",
    "userson.describe_user()\n",
    "userson.greet_userson()"
   ]
  }
 ],
 "metadata": {
  "kernelspec": {
   "display_name": "Python 3",
   "language": "python",
   "name": "python3"
  },
  "language_info": {
   "codemirror_mode": {
    "name": "ipython",
    "version": 3
   },
   "file_extension": ".py",
   "mimetype": "text/x-python",
   "name": "python",
   "nbconvert_exporter": "python",
   "pygments_lexer": "ipython3",
   "version": "3.6.8"
  },
  "toc": {
   "base_numbering": 1,
   "nav_menu": {},
   "number_sections": true,
   "sideBar": true,
   "skip_h1_title": true,
   "title_cell": "Table of Contents",
   "title_sidebar": "Contents",
   "toc_cell": true,
   "toc_position": {},
   "toc_section_display": true,
   "toc_window_display": false
  }
 },
 "nbformat": 4,
 "nbformat_minor": 5
}
