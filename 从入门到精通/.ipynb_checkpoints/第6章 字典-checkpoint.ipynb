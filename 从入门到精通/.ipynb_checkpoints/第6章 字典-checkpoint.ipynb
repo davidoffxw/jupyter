{
 "cells": [
  {
   "cell_type": "markdown",
   "id": "9537903e",
   "metadata": {
    "toc": true
   },
   "source": [
    "<h1>Table of Contents<span class=\"tocSkip\"></span></h1>\n",
    "<div class=\"toc\"><ul class=\"toc-item\"><li><span><a href=\"#修改字典中的值：\" data-toc-modified-id=\"修改字典中的值：-1\"><span class=\"toc-item-num\">1&nbsp;&nbsp;</span>修改字典中的值：</a></span></li><li><span><a href=\"#添加字典中的值\" data-toc-modified-id=\"添加字典中的值-2\"><span class=\"toc-item-num\">2&nbsp;&nbsp;</span>添加字典中的值</a></span></li><li><span><a href=\"#遍历整个字典\" data-toc-modified-id=\"遍历整个字典-3\"><span class=\"toc-item-num\">3&nbsp;&nbsp;</span>遍历整个字典</a></span></li><li><span><a href=\"#字典的嵌套\" data-toc-modified-id=\"字典的嵌套-4\"><span class=\"toc-item-num\">4&nbsp;&nbsp;</span>字典的嵌套</a></span></li><li><span><a href=\"#删除一个-键值对\" data-toc-modified-id=\"删除一个-键值对-5\"><span class=\"toc-item-num\">5&nbsp;&nbsp;</span>删除一个 键值对</a></span></li><li><span><a href=\"#字典的get()-方法\" data-toc-modified-id=\"字典的get()-方法-6\"><span class=\"toc-item-num\">6&nbsp;&nbsp;</span>字典的get() 方法</a></span></li></ul></div>"
   ]
  },
  {
   "cell_type": "markdown",
   "id": "2e3b6f94",
   "metadata": {},
   "source": [
    "# 字典的使用\n",
    "```python\n",
    "\n",
    "favorite_languages = {'Zhangsan':'C',\n",
    "    'Li4':'python',\n",
    "    'Wang5':'Ruby',\n",
    "    'Chen66':'C',\n",
    "    }\n",
    "```\n",
    "字典在python中，是以 键值对 的方式出现的，每个 key 都有一个value 对应。可以通过key,来访问其value\n",
    "例如 `favorite_languages['Li4]`则显示 'python' 注意‼️ 这里的key也是区分大小写的，相当于列表名或变量名。\n",
    "\n",
    "## 修改字典中的值：\n",
    "` favorite_languages['Li4'] = 'Fortan' `就可以修改字典中keyLi4 的值了\n",
    "\n",
    "\n",
    "## 添加字典中的值\n",
    "` favortie_languages['新人'] = 'R' ` 在字典中添加一个新人喜欢R\n",
    "## 遍历整个字典\n",
    "```python\n",
    "print (favorite_languages.keys())\n",
    "print (favorite_languages.values())\n",
    "for key,value in favorite_languages.items():\n",
    "    print (key)\n",
    "    print (value)\n",
    "```\n",
    "\n"
   ]
  },
  {
   "cell_type": "code",
   "execution_count": 21,
   "id": "8dce2e74",
   "metadata": {},
   "outputs": [
    {
     "name": "stdout",
     "output_type": "stream",
     "text": [
      "dict_keys(['Zhangsan', 'Li4', 'Wang5', 'Chen66'])\n",
      "dict_values(['C', 'python', 'Ruby', 'C'])\n",
      "Zhangsan\n",
      "C\n",
      "Li4\n",
      "python\n",
      "Wang5\n",
      "Ruby\n",
      "Chen66\n",
      "C\n",
      "Li4喜爱的计算机语言为python\n",
      "{'Zhangsan': 'C', 'Li4': 'python', 'Wang5': 'Ruby', 'Chen66': 'C', '新人': 'R'}\n"
     ]
    }
   ],
   "source": [
    "favorite_languages = {\n",
    "    'Zhangsan':'C',\n",
    "    'Li4':'python',\n",
    "    'Wang5':'Ruby',\n",
    "    'Chen66':'C',\n",
    "    }\n",
    "print (favorite_languages.keys())\n",
    "print (favorite_languages.values())\n",
    "for key,value in favorite_languages.items():\n",
    "    print (key)\n",
    "    print (value)\n",
    "print ('Li4喜爱的计算机语言为'+favorite_languages['Li4'])\n",
    "favorite_languages['新人'] = 'R'\n",
    "print (favorite_languages)"
   ]
  },
  {
   "cell_type": "markdown",
   "id": "435fa7aa",
   "metadata": {},
   "source": [
    "## 字典的嵌套\n",
    "字典里面有列表的情况：\n",
    "```\n",
    "favorite_languages = {\n",
    "    'zhangsan':['python','c'],\n",
    "    'Li4':['python','BASIC','C++'],\n",
    "    'Wang5':'pascl',\n",
    "    }\n",
    "``` \n",
    "遍历所有key的value： 使用for in \n",
    "```python\n",
    "for name,language in favorite_languages.items():\n",
    "    print (name)\n",
    "1 2 3 45 667"
   ]
  },
  {
   "cell_type": "code",
   "execution_count": 24,
   "id": "84343360",
   "metadata": {},
   "outputs": [
    {
     "name": "stdout",
     "output_type": "stream",
     "text": [
      "姓名是zhangsan,他共喜欢2门计算机语言，分别是：\n",
      "python\n",
      "c\n",
      "姓名是li4,他共喜欢3门计算机语言，分别是：\n",
      "python\n",
      "BASIC\n",
      "C++\n",
      "姓名是Wang5,他共喜欢1门计算机语言，分别是：\n",
      "就一门C++\n"
     ]
    }
   ],
   "source": [
    "favorite_languages = {\n",
    "    'zhangsan':['python','c'],\n",
    "    'Li4':['python','BASIC','C++'],\n",
    "    'Wang5':['pascl'],\n",
    "    }\n",
    "for name,keys in favorite_languages.items():\n",
    "    print (f'姓名是{name},他共喜欢{len(keys)}门计算机语言，分别是：')\n",
    "    if len(keys)>1:\n",
    "        for key in keys:\n",
    "            print (key)\n",
    "    else:\n",
    "        print (f'就一门{key}')"
   ]
  },
  {
   "cell_type": "markdown",
   "id": "0d2b5c98",
   "metadata": {},
   "source": [
    "## 删除一个 键值对\n",
    "del favorite_languages['Li4']\n"
   ]
  },
  {
   "cell_type": "code",
   "execution_count": 32,
   "id": "045848e4",
   "metadata": {},
   "outputs": [
    {
     "name": "stdout",
     "output_type": "stream",
     "text": [
      "{'zhangsan': ['BASIC'], 'Li4': ['python', 'BASIC', 'C++'], 'Wang5': ['pascl']}\n",
      "{'zhangsan': ['BASIC'], 'Wang5': ['pascl']}\n"
     ]
    }
   ],
   "source": [
    "favorite_languages = {\n",
    "    'zhangsan':['BASIC'],\n",
    "    'Li4':['python','BASIC','C++'],\n",
    "    'Wang5':['pascl'],\n",
    "    }\n",
    "print (favorite_languages)\n",
    "del favorite_languages['Li4']\n",
    "print (favorite_languages)"
   ]
  },
  {
   "cell_type": "markdown",
   "id": "45d5e3ac",
   "metadata": {},
   "source": [
    "## 由类似对象组成的字典\n",
    "\n",
    "```python\n",
    "#此字典 由多名类似的人名+语言组成，是类似对象的字典。\n",
    "favorite_languages = {\n",
    "    'zhangsan':['BASIC'],\n",
    "    'Li4':['python','BASIC','C++'],\n",
    "    'Wang5':['pascl'],\n",
    "    }\n",
    "\n",
    "#这是用一个字典表示一个 外星人 的多个属性，其中有颜色/得分点数/x坐标/y坐标\n",
    "alien = {\n",
    "    'color':'green',\n",
    "    'point':10,\n",
    "    'x_position':0,\n",
    "    'y_position':100,\n",
    "}"
   ]
  },
  {
   "cell_type": "markdown",
   "id": "56408736",
   "metadata": {},
   "source": [
    "## 字典的get() 方法\n",
    "\n",
    "要获取 一个key的values,可以使用 方法get()\n",
    "\n",
    "```python\n",
    "\n",
    "alien = {\n",
    "    'color':'green',\n",
    "    'point':10,\n",
    "    'x_position':0,\n",
    "    'y_position':100,\n",
    "}\n",
    "nokey = alien.get('Nokey','nokey 没有这个键')\n",
    "print (nokey)\n",
    "```\n",
    "这样可以保证在给定的key不存在时，程序返回none，而不报错。建议在获取键值的时候，使用方法get()"
   ]
  },
  {
   "cell_type": "code",
   "execution_count": 8,
   "id": "ef30ad89",
   "metadata": {},
   "outputs": [
    {
     "name": "stdout",
     "output_type": "stream",
     "text": [
      "nokey 没有这个键\n"
     ]
    }
   ],
   "source": [
    "alien = {\n",
    "    'color':'green',\n",
    "    'point':10,\n",
    "    'x_position':0,\n",
    "    'y_position':100,\n",
    "    }\n",
    "nokey = alien.get('n','nokey 没有这个键')\n",
    "                  \n",
    "print (nokey)"
   ]
  },
  {
   "cell_type": "code",
   "execution_count": null,
   "id": "b51e0761",
   "metadata": {},
   "outputs": [],
   "source": []
  }
 ],
 "metadata": {
  "kernelspec": {
   "display_name": "Python 3",
   "language": "python",
   "name": "python3"
  },
  "language_info": {
   "codemirror_mode": {
    "name": "ipython",
    "version": 3
   },
   "file_extension": ".py",
   "mimetype": "text/x-python",
   "name": "python",
   "nbconvert_exporter": "python",
   "pygments_lexer": "ipython3",
   "version": "3.6.8"
  },
  "toc": {
   "base_numbering": 1,
   "nav_menu": {},
   "number_sections": true,
   "sideBar": true,
   "skip_h1_title": true,
   "title_cell": "Table of Contents",
   "title_sidebar": "Contents",
   "toc_cell": true,
   "toc_position": {},
   "toc_section_display": true,
   "toc_window_display": false
  }
 },
 "nbformat": 4,
 "nbformat_minor": 5
}
