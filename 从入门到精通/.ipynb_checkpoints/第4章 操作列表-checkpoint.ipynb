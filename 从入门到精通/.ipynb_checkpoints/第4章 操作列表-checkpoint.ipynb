{
 "cells": [
  {
   "cell_type": "markdown",
   "id": "7e55b8cf",
   "metadata": {
    "toc": true
   },
   "source": [
    "<h1>Table of Contents<span class=\"tocSkip\"></span></h1>\n",
    "<div class=\"toc\"><ul class=\"toc-item\"><li><span><a href=\"#遍历整个列表\" data-toc-modified-id=\"遍历整个列表-1\"><span class=\"toc-item-num\">1&nbsp;&nbsp;</span>遍历整个列表</a></span></li><li><span><a href=\"#创建数值列表\" data-toc-modified-id=\"创建数值列表-2\"><span class=\"toc-item-num\">2&nbsp;&nbsp;</span>创建数值列表</a></span><ul class=\"toc-item\"><li><span><a href=\"#range()函数\" data-toc-modified-id=\"range()函数-2.1\"><span class=\"toc-item-num\">2.1&nbsp;&nbsp;</span>range()函数</a></span></li><li><span><a href=\"#对数字列表的简单操作\" data-toc-modified-id=\"对数字列表的简单操作-2.2\"><span class=\"toc-item-num\">2.2&nbsp;&nbsp;</span>对数字列表的简单操作</a></span></li><li><span><a href=\"#列表解析\" data-toc-modified-id=\"列表解析-2.3\"><span class=\"toc-item-num\">2.3&nbsp;&nbsp;</span>列表解析</a></span></li><li><span><a href=\"#使用列表的一部分\" data-toc-modified-id=\"使用列表的一部分-2.4\"><span class=\"toc-item-num\">2.4&nbsp;&nbsp;</span>使用列表的一部分</a></span><ul class=\"toc-item\"><li><span><a href=\"#切片-[0:3]-注意！！！：-冒号\" data-toc-modified-id=\"切片-[0:3]-注意！！！：-冒号-2.4.1\"><span class=\"toc-item-num\">2.4.1&nbsp;&nbsp;</span>切片 [0:3] 注意！！！： 冒号</a></span></li></ul></li></ul></li></ul></div>"
   ]
  },
  {
   "cell_type": "markdown",
   "id": "adbd54e9",
   "metadata": {},
   "source": [
    "# 操作列表"
   ]
  },
  {
   "cell_type": "markdown",
   "id": "ae86ca7f",
   "metadata": {},
   "source": [
    "## 遍历整个列表\n",
    "``` python\n",
    "for student in students: #！！！注意冒号\n",
    "    print (student) # ！！！注意缩近\n",
    "```"
   ]
  },
  {
   "cell_type": "code",
   "execution_count": 7,
   "id": "ec6119da",
   "metadata": {},
   "outputs": [
    {
     "name": "stdout",
     "output_type": "stream",
     "text": [
      "张三\n",
      "李四\n",
      "王五\n",
      "欢迎迎各位同学\n"
     ]
    }
   ],
   "source": [
    "students = ['张三','李四','王五']\n",
    "for student in students:\n",
    "    print (student)\n",
    "print (f'欢迎迎各位同学')"
   ]
  },
  {
   "cell_type": "markdown",
   "id": "0c62fffd",
   "metadata": {},
   "source": [
    "## 创建数值列表\n",
    "### range()函数\n",
    "```python\n",
    "range(10) #产生一个0-9 共10个的列表\n",
    "range(1,10,1) #产生一个1-9，共9个元素的列表\n"
   ]
  },
  {
   "cell_type": "code",
   "execution_count": 10,
   "id": "ba174add",
   "metadata": {},
   "outputs": [
    {
     "name": "stdout",
     "output_type": "stream",
     "text": [
      "1\n",
      "2\n",
      "3\n",
      "4\n",
      "5\n",
      "6\n",
      "7\n",
      "8\n",
      "9\n"
     ]
    }
   ],
   "source": [
    "for i in range(1,10,1):\n",
    "    print (i)"
   ]
  },
  {
   "cell_type": "code",
   "execution_count": 13,
   "id": "e6db5a19",
   "metadata": {},
   "outputs": [
    {
     "name": "stdout",
     "output_type": "stream",
     "text": [
      "[0, 1, 4, 9, 16, 25, 36, 49, 64, 81, 100]\n"
     ]
    }
   ],
   "source": [
    "squs = [] #建立一个平方数的空列表\n",
    "for value in range(11):\n",
    "    squs.append (value ** 2)\n",
    "    print \n",
    "print (squs)"
   ]
  },
  {
   "cell_type": "markdown",
   "id": "a4e9793b",
   "metadata": {},
   "source": [
    "### 对数字列表的简单操作\n",
    "min（）\n",
    "max（）\n",
    "sum（）"
   ]
  },
  {
   "cell_type": "code",
   "execution_count": 16,
   "id": "f4963a7a",
   "metadata": {},
   "outputs": [
    {
     "name": "stdout",
     "output_type": "stream",
     "text": [
      "0\n",
      "100\n",
      "385\n"
     ]
    }
   ],
   "source": [
    "squs = [] #建立一个平方数的空列表\n",
    "\n",
    "for value in range(11):\n",
    "    squs.append (value ** 2)\n",
    "\n",
    "\n",
    "print (min(squs))\n",
    "print (max(squs))\n",
    "print (sum(squs))"
   ]
  },
  {
   "cell_type": "markdown",
   "id": "d81e7850",
   "metadata": {},
   "source": [
    "### 列表解析\n",
    "相当于用一行代码编写 for in\n",
    "`squs = [value ** 2 for value in range(11)]`"
   ]
  },
  {
   "cell_type": "code",
   "execution_count": 18,
   "id": "4df01887",
   "metadata": {},
   "outputs": [
    {
     "name": "stdout",
     "output_type": "stream",
     "text": [
      "[0, 1, 4, 9, 16, 25, 36, 49, 64, 81, 100]\n"
     ]
    }
   ],
   "source": [
    "squs = [value ** 2 for value in range(11)]\n",
    "print (squs)"
   ]
  },
  {
   "cell_type": "markdown",
   "id": "8d2ce9df",
   "metadata": {},
   "source": [
    "### 使用列表的一部分\n",
    "#### 切片 [0:3] 注意！！！： 冒号\n",
    "students[0]\n",
    "students [0:3]"
   ]
  },
  {
   "cell_type": "code",
   "execution_count": 24,
   "id": "bfb1d5b3",
   "metadata": {},
   "outputs": [
    {
     "data": {
      "text/plain": [
       "['徐一', '陈二', '张三', '李四']"
      ]
     },
     "execution_count": 24,
     "metadata": {},
     "output_type": "execute_result"
    }
   ],
   "source": [
    "students = ['徐一','陈二','张三','李四','王五']\n",
    "students[:-1]\n",
    "\n"
   ]
  },
  {
   "cell_type": "code",
   "execution_count": null,
   "id": "2f9785a8",
   "metadata": {},
   "outputs": [],
   "source": [
    "\n",
    "\n"
   ]
  }
 ],
 "metadata": {
  "kernelspec": {
   "display_name": "Python 3",
   "language": "python",
   "name": "python3"
  },
  "language_info": {
   "codemirror_mode": {
    "name": "ipython",
    "version": 3
   },
   "file_extension": ".py",
   "mimetype": "text/x-python",
   "name": "python",
   "nbconvert_exporter": "python",
   "pygments_lexer": "ipython3",
   "version": "3.6.8"
  },
  "toc": {
   "base_numbering": 1,
   "nav_menu": {},
   "number_sections": true,
   "sideBar": true,
   "skip_h1_title": true,
   "title_cell": "Table of Contents",
   "title_sidebar": "Contents",
   "toc_cell": true,
   "toc_position": {},
   "toc_section_display": true,
   "toc_window_display": true
  }
 },
 "nbformat": 4,
 "nbformat_minor": 5
}
