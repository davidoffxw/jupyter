{
 "cells": [
  {
   "cell_type": "markdown",
   "id": "a7070e25",
   "metadata": {
    "toc": true
   },
   "source": [
    "<h1>目录<span class=\"tocSkip\"></span></h1>\n",
    "<div class=\"toc\"><ul class=\"toc-item\"><li><span><a href=\"#列表的建立\" data-toc-modified-id=\"列表的建立-1\"><span class=\"toc-item-num\">1&nbsp;&nbsp;</span>列表的建立</a></span><ul class=\"toc-item\"><li><span><a href=\"#append在列表最后追加一个元素\" data-toc-modified-id=\"append在列表最后追加一个元素-1.1\"><span class=\"toc-item-num\">1.1&nbsp;&nbsp;</span>append在列表最后追加一个元素</a></span></li><li><span><a href=\"#inster(idx,元素）-在索引位置前，添加一个元素\" data-toc-modified-id=\"inster(idx,元素）-在索引位置前，添加一个元素-1.2\"><span class=\"toc-item-num\">1.2&nbsp;&nbsp;</span>inster(idx,元素） 在索引位置前，添加一个元素</a></span></li></ul></li><li><span><a href=\"#列表的修改\" data-toc-modified-id=\"列表的修改-2\"><span class=\"toc-item-num\">2&nbsp;&nbsp;</span>列表的修改</a></span></li><li><span><a href=\"#列表的删除\" data-toc-modified-id=\"列表的删除-3\"><span class=\"toc-item-num\">3&nbsp;&nbsp;</span>列表的删除</a></span><ul class=\"toc-item\"><li><span><a href=\"#通过索引删除-del\" data-toc-modified-id=\"通过索引删除-del-3.1\"><span class=\"toc-item-num\">3.1&nbsp;&nbsp;</span>通过索引删除 del</a></span></li><li><span><a href=\"#通过索引弹出-pop（idx）\" data-toc-modified-id=\"通过索引弹出-pop（idx）-3.2\"><span class=\"toc-item-num\">3.2&nbsp;&nbsp;</span>通过索引弹出 pop（idx）</a></span></li><li><span><a href=\"#通过列表中的值进行删除-remove()\" data-toc-modified-id=\"通过列表中的值进行删除-remove()-3.3\"><span class=\"toc-item-num\">3.3&nbsp;&nbsp;</span>通过列表中的值进行删除 remove()</a></span></li></ul></li><li><span><a href=\"#列表的组织\" data-toc-modified-id=\"列表的组织-4\"><span class=\"toc-item-num\">4&nbsp;&nbsp;</span>列表的组织</a></span><ul class=\"toc-item\"><li><span><a href=\"#sort()-永久重排列表-按字母顺序\" data-toc-modified-id=\"sort()-永久重排列表-按字母顺序-4.1\"><span class=\"toc-item-num\">4.1&nbsp;&nbsp;</span>sort() 永久重排列表 按字母顺序</a></span></li><li><span><a href=\"#sorted()临时排序\" data-toc-modified-id=\"sorted()临时排序-4.2\"><span class=\"toc-item-num\">4.2&nbsp;&nbsp;</span>sorted()临时排序</a></span></li><li><span><a href=\"#倒序列表-reverse()\" data-toc-modified-id=\"倒序列表-reverse()-4.3\"><span class=\"toc-item-num\">4.3&nbsp;&nbsp;</span>倒序列表 reverse()</a></span></li><li><span><a href=\"#确定列表的长度\" data-toc-modified-id=\"确定列表的长度-4.4\"><span class=\"toc-item-num\">4.4&nbsp;&nbsp;</span>确定列表的长度</a></span></li></ul></li></ul></div>"
   ]
  },
  {
   "cell_type": "markdown",
   "id": "36fb0092",
   "metadata": {},
   "source": [
    "# 列表的相关操作"
   ]
  },
  {
   "cell_type": "markdown",
   "id": "94e984d0",
   "metadata": {},
   "source": [
    "## 列表的建立\n",
    "### append在列表最后追加一个元素\n",
    "``` python\n",
    "list = [] #建立一个空的列表\n",
    "list.append('a') #append 追加到列表\n",
    "list.append('b')\n",
    "list.append('c')\n",
    "```\n",
    "\n",
    "### inster(idx,元素） 在索引位置前，添加一个元素"
   ]
  },
  {
   "cell_type": "code",
   "execution_count": 1,
   "id": "fdabf039",
   "metadata": {},
   "outputs": [
    {
     "name": "stdout",
     "output_type": "stream",
     "text": [
      "['a', 'b', 'c']\n"
     ]
    }
   ],
   "source": [
    "list = [] #建立一个空的列表\n",
    "list.append('a') #append 追加到列表\n",
    "list.append('b')\n",
    "list.append('c')\n",
    "print (list)"
   ]
  },
  {
   "cell_type": "code",
   "execution_count": 2,
   "id": "2a9677de",
   "metadata": {},
   "outputs": [
    {
     "name": "stdout",
     "output_type": "stream",
     "text": [
      "['a', '添加的a', 'b', 'c']\n"
     ]
    }
   ],
   "source": [
    "list.insert(1,'添加的a')\n",
    "print (list)"
   ]
  },
  {
   "cell_type": "markdown",
   "id": "e2d510af",
   "metadata": {},
   "source": [
    "## 列表的修改\n",
    "` list[0] = 'Xuwei' #list[idx] = new value `\n",
    "使用索引修改列表中的值"
   ]
  },
  {
   "cell_type": "code",
   "execution_count": 3,
   "id": "e45475fd",
   "metadata": {},
   "outputs": [
    {
     "name": "stdout",
     "output_type": "stream",
     "text": [
      "['Xuwei', '添加的a', 'b', 'c']\n"
     ]
    }
   ],
   "source": [
    "list[0]='Xuwei'\n",
    "print (list)"
   ]
  },
  {
   "cell_type": "markdown",
   "id": "d9e54fd6",
   "metadata": {},
   "source": [
    "## 列表的删除\n",
    "### 通过索引删除 del\n",
    "` del list[0] ` 删除第一个\n",
    "` del list [-1] ` 删除最后一个\n",
    "del后的值，将不再可用\n",
    "### 通过索引弹出 pop（idx）\n",
    "` poped_list= list.pop(0) #弹出第一个元素 `\n",
    "\n",
    "` poped_list = list.pop(-1) #弹出最后一个元素 `"
   ]
  },
  {
   "cell_type": "code",
   "execution_count": 4,
   "id": "17b9d3b4",
   "metadata": {
    "scrolled": true
   },
   "outputs": [
    {
     "name": "stdout",
     "output_type": "stream",
     "text": [
      "原列表['Xuwei', 'b', 'c']\n",
      "['b', 'c']\n",
      "['b']\n"
     ]
    }
   ],
   "source": [
    "list = ['Xuwei','b','c']\n",
    "print (f'原列表{list}')\n",
    "del list [0]\n",
    "print (list)\n",
    "del list [-1]\n",
    "print (list)"
   ]
  },
  {
   "cell_type": "code",
   "execution_count": 5,
   "id": "059a6264",
   "metadata": {},
   "outputs": [
    {
     "name": "stdout",
     "output_type": "stream",
     "text": [
      "原列表['Xuwei', 'b', 'c']\n",
      "被弹出的元素poped_list Xuwei\n",
      "现的在列表变为：['b', 'c']\n"
     ]
    }
   ],
   "source": [
    "list = ['Xuwei','b','c']\n",
    "print (f'原列表{list}')\n",
    "poped_list = list.pop(0)\n",
    "print (f'被弹出的元素poped_list {poped_list}')\n",
    "print (f'现的在列表变为：{list}')"
   ]
  },
  {
   "cell_type": "markdown",
   "id": "ad194995",
   "metadata": {},
   "source": [
    "### 通过列表中的值进行删除 remove()\n",
    "` list.remove('b') #remove()后的值也可继续使用` \n",
    "‼️注意：remove()只能删除第一个出现的值！！第二个还在！"
   ]
  },
  {
   "cell_type": "code",
   "execution_count": 6,
   "id": "b024869c",
   "metadata": {},
   "outputs": [
    {
     "name": "stdout",
     "output_type": "stream",
     "text": [
      "原列表['Xuwei', 'b', 'b', 'c']\n",
      "被remove的值是 b\n",
      "['Xuwei', 'b', 'c']\n"
     ]
    }
   ],
   "source": [
    "list = ['Xuwei','b','b','c']\n",
    "print (f'原列表{list}')\n",
    "removed_list= 'b' #先定义一个将要被remove的变量\n",
    "list.remove(removed_list) #remove这个变量\n",
    "print (f'被remove的值是 {removed_list}')\n",
    "print (list)"
   ]
  },
  {
   "cell_type": "markdown",
   "id": "e6476e16",
   "metadata": {},
   "source": [
    "## 列表的组织\n",
    "### sort() 永久重排列表 按字母顺序\n",
    "list.sort()"
   ]
  },
  {
   "cell_type": "code",
   "execution_count": 7,
   "id": "bdce14be",
   "metadata": {},
   "outputs": [
    {
     "name": "stdout",
     "output_type": "stream",
     "text": [
      "原列表['d', 'b', 'a']\n",
      "sort()后的列表 ['a', 'b', 'd']\n"
     ]
    }
   ],
   "source": [
    "list = ['d','b','a']\n",
    "print (f'原列表{list}')\n",
    "list.sort()\n",
    "print (f'sort()后的列表 {list}')"
   ]
  },
  {
   "cell_type": "code",
   "execution_count": 8,
   "id": "73145942",
   "metadata": {},
   "outputs": [
    {
     "name": "stdout",
     "output_type": "stream",
     "text": [
      "原列表['d', 'b', 'a']\n",
      "sort()后的列表 ['d', 'b', 'a']\n"
     ]
    }
   ],
   "source": [
    "list = ['d','b','a']\n",
    "print (f'原列表{list}')\n",
    "list.sort(reverse=True)\n",
    "print (f'sort()后的列表 {list}')"
   ]
  },
  {
   "cell_type": "markdown",
   "id": "52588948",
   "metadata": {},
   "source": [
    "### sorted()临时排序"
   ]
  },
  {
   "cell_type": "code",
   "execution_count": 9,
   "id": "93eec7b1",
   "metadata": {},
   "outputs": [
    {
     "name": "stdout",
     "output_type": "stream",
     "text": [
      "原列表['d', 'b', 'a']\n",
      "sort()后的列表 ['a', 'b', 'd']\n",
      "原list：['d', 'b', 'a']\n"
     ]
    }
   ],
   "source": [
    "list = ['d','b','a']\n",
    "print (f'原列表{list}')\n",
    "new_list=sorted(list)\n",
    "print (f'sort()后的列表 {new_list}')\n",
    "print (f'原list：{list}')"
   ]
  },
  {
   "cell_type": "markdown",
   "id": "7d09fbee",
   "metadata": {},
   "source": [
    "### 倒序列表 reverse() \n",
    "‼️永久性的翻转列表\n",
    "只是反转整个列表，所以再reverse一遍，就还原了。"
   ]
  },
  {
   "cell_type": "code",
   "execution_count": 10,
   "id": "a54cd0d9",
   "metadata": {},
   "outputs": [
    {
     "name": "stdout",
     "output_type": "stream",
     "text": [
      "原列表['d', 'b', 'a']\n",
      "反转之后：['a', 'b', 'd']\n"
     ]
    }
   ],
   "source": [
    "list = ['d','b','a']\n",
    "print (f'原列表{list}')\n",
    "list.reverse()\n",
    "print (f'反转之后：{list}')"
   ]
  },
  {
   "cell_type": "markdown",
   "id": "bc7d2731",
   "metadata": {},
   "source": [
    "### 确定列表的长度\n",
    "`len(list)`"
   ]
  },
  {
   "cell_type": "code",
   "execution_count": 11,
   "id": "8ffca69e",
   "metadata": {},
   "outputs": [
    {
     "name": "stdout",
     "output_type": "stream",
     "text": [
      "原列表['d', 'b', 'a']\n",
      "列表的长度=3\n",
      "空列表的长度为0\n"
     ]
    }
   ],
   "source": [
    "list = ['d','b','a']\n",
    "print (f'原列表{list}')\n",
    "print (f'列表的长度={len(list)}')\n",
    "\n",
    "empyt_list = []\n",
    "print (f'空列表的长度为{len(empyt_list)}')"
   ]
  },
  {
   "cell_type": "code",
   "execution_count": null,
   "id": "be8ffd60",
   "metadata": {},
   "outputs": [],
   "source": []
  }
 ],
 "metadata": {
  "kernelspec": {
   "display_name": "Python 3",
   "language": "python",
   "name": "python3"
  },
  "language_info": {
   "codemirror_mode": {
    "name": "ipython",
    "version": 3
   },
   "file_extension": ".py",
   "mimetype": "text/x-python",
   "name": "python",
   "nbconvert_exporter": "python",
   "pygments_lexer": "ipython3",
   "version": "3.6.8"
  },
  "toc": {
   "base_numbering": 1,
   "nav_menu": {},
   "number_sections": true,
   "sideBar": false,
   "skip_h1_title": true,
   "title_cell": "目录",
   "title_sidebar": "目录",
   "toc_cell": true,
   "toc_position": {
    "height": "532px",
    "left": "972.203125px",
    "top": "91px",
    "width": "221.796875px"
   },
   "toc_section_display": true,
   "toc_window_display": true
  }
 },
 "nbformat": 4,
 "nbformat_minor": 5
}
