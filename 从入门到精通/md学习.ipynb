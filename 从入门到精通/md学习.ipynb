{
 "cells": [
  {
   "cell_type": "markdown",
   "id": "a587b4d2",
   "metadata": {},
   "source": [
    "# 这是一份md的学习笔记\n",
    "md使用#设置标题\n",
    "\n",
    "还可以使用文本中的代码块`import os`\n",
    "\n",
    "**还可以直接大块代码块**\n",
    "```python\n",
    "import os\n",
    "BASE_DIR=os.pathcwd()\n",
    "file_path=os.path.join(BASE_DIR,'xxx.xls')\n",
    "\n",
    "```\n",
    "\n",
    "代码块外是这样的\n",
    "\n"
   ]
  },
  {
   "cell_type": "markdown",
   "id": "c9753b93",
   "metadata": {},
   "source": [
    "\n",
    "## 这是另一个代码块\n",
    "```python\n",
    "for i in range(5):\n",
    "    print (i**2)\n",
    "```"
   ]
  },
  {
   "cell_type": "markdown",
   "id": "4e613bd8",
   "metadata": {},
   "source": [
    "\n",
    "### hi"
   ]
  },
  {
   "cell_type": "markdown",
   "id": "858832fb",
   "metadata": {},
   "source": [
    "## yijibiaoti"
   ]
  },
  {
   "cell_type": "markdown",
   "id": "21170dfa",
   "metadata": {},
   "source": []
  },
  {
   "cell_type": "markdown",
   "id": "c5c48603",
   "metadata": {},
   "source": [
    "# 这是一份md的学习笔记\n",
    "md使用#设置标题\n",
    "\n",
    "还可以使用文本中的代码块`import os`\n",
    "\n",
    "**还可以直接大块代码块**\n",
    "```python\n",
    "import os\n",
    "BASE_DIR=os.pathcwd()\n",
    "file_path=os.path.join(BASE_DIR,'xxx.xls')\n",
    "\n",
    "```\n",
    "\n",
    "代码块外是这样的"
   ]
  },
  {
   "cell_type": "code",
   "execution_count": null,
   "id": "f251d671",
   "metadata": {},
   "outputs": [],
   "source": []
  }
 ],
 "metadata": {
  "celltoolbar": "无",
  "kernelspec": {
   "display_name": "Python 3",
   "language": "python",
   "name": "python3"
  },
  "language_info": {
   "codemirror_mode": {
    "name": "ipython",
    "version": 3
   },
   "file_extension": ".py",
   "mimetype": "text/x-python",
   "name": "python",
   "nbconvert_exporter": "python",
   "pygments_lexer": "ipython3",
   "version": "3.6.8"
  },
  "toc": {
   "base_numbering": "2",
   "nav_menu": {},
   "number_sections": true,
   "sideBar": false,
   "skip_h1_title": true,
   "title_cell": "Table of Contents",
   "title_sidebar": "Contents",
   "toc_cell": false,
   "toc_position": {
    "height": "533.6px",
    "left": "1112px",
    "top": "179.2px",
    "width": "187.825px"
   },
   "toc_section_display": true,
   "toc_window_display": true
  }
 },
 "nbformat": 4,
 "nbformat_minor": 5
}
