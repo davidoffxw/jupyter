{
 "cells": [
  {
   "cell_type": "markdown",
   "id": "3e98bc87",
   "metadata": {},
   "source": [
    "# 类 Class Xxx："
   ]
  },
  {
   "cell_type": "markdown",
   "id": "2d6dc7c9",
   "metadata": {},
   "source": [
    "## 类的几个基础知识\n",
    "类中的函数，称为**方法**\n",
    "\\__init\\__ 是一个特殊的方法，每当class创建实例的时，都会**自动先运行** \\__init\\__方法\n",
    "\n",
    "self 是一个特殊的形参，必须处于其它形参之前， 它是一个指向实例本身的引用。不需要在创建实例时传递值给self\n",
    "类中的def XX():称为方法。类的方法。\n",
    "函数是模块中自定义的可重复利用的一组代码。在面向对象的编程思路下，多用类的方法思考解决问题。\n"
   ]
  },
  {
   "cell_type": "code",
   "execution_count": 67,
   "id": "82f39818",
   "metadata": {},
   "outputs": [],
   "source": [
    "class Dog: # 不需要在Dog后面加（） 类一般以大写字母开头或者使用驼峰式命名，例如ElectricCar as EC\n",
    "    '''此处做类的介绍文档，这是一个模拟小狗的试验'''\n",
    "    def __init__(self, name, age): # __这是两个下划线。 __init__\n",
    "        self.name = name\n",
    "        self.age = age\n",
    "\n",
    "    def sit(self):\n",
    "        print(self.name+\" is sitting now\")\n",
    "\n",
    "    def roll(self):\n",
    "        print(self.name.title()+\" rolled over\")\n",
    "\n",
    "    def introduce_pet(self,whatwanttosay):\n",
    "        print(f'this is my pet named {self.name.title()},its {self.age}s old{whatwanttosay}')"
   ]
  },
  {
   "cell_type": "code",
   "execution_count": 68,
   "id": "d74c1903",
   "metadata": {},
   "outputs": [
    {
     "data": {
      "text/plain": [
       "'/home/lighthouse/jupyter'"
      ]
     },
     "execution_count": 68,
     "metadata": {},
     "output_type": "execute_result"
    }
   ],
   "source": [
    "import os\n",
    "os.path.realpath(\".\")"
   ]
  },
  {
   "cell_type": "code",
   "execution_count": 69,
   "id": "4aabfbde",
   "metadata": {},
   "outputs": [],
   "source": [
    "my_dog = Dog('Wangcai', 9)"
   ]
  },
  {
   "cell_type": "code",
   "execution_count": 70,
   "id": "14251ff8",
   "metadata": {},
   "outputs": [
    {
     "name": "stdout",
     "output_type": "stream",
     "text": [
      "Wangcai is sitting now\n",
      "Wangcai rolled over\n",
      "this is my pet named Wangcai,its 9s old测试\n"
     ]
    }
   ],
   "source": [
    "my_dog.sit()\n",
    "my_dog.roll()\n",
    "my_dog.introduce_pet('测试')"
   ]
  },
  {
   "cell_type": "code",
   "execution_count": 73,
   "id": "2e9b58cd",
   "metadata": {},
   "outputs": [
    {
     "name": "stdout",
     "output_type": "stream",
     "text": [
      "[0, 1, 2, 3, 4, 5, 6, 7, 8, 9]\n"
     ]
    }
   ],
   "source": [
    "x = [w for w in range(10)]\n",
    "print (x)"
   ]
  }
 ],
 "metadata": {
  "kernelspec": {
   "display_name": "Python 3",
   "language": "python",
   "name": "python3"
  },
  "language_info": {
   "codemirror_mode": {
    "name": "ipython",
    "version": 3
   },
   "file_extension": ".py",
   "mimetype": "text/x-python",
   "name": "python",
   "nbconvert_exporter": "python",
   "pygments_lexer": "ipython3",
   "version": "3.6.8"
  },
  "toc": {
   "base_numbering": 1,
   "nav_menu": {},
   "number_sections": true,
   "sideBar": true,
   "skip_h1_title": false,
   "title_cell": "Table of Contents",
   "title_sidebar": "Contents",
   "toc_cell": false,
   "toc_position": {},
   "toc_section_display": true,
   "toc_window_display": false
  }
 },
 "nbformat": 4,
 "nbformat_minor": 5
}
